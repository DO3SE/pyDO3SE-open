{
 "cells": [
  {
   "cell_type": "code",
   "execution_count": 1,
   "metadata": {},
   "outputs": [],
   "source": [
    "import sys\n",
    "sys.path.append(\"../\") # go to parent dir"
   ]
  },
  {
   "cell_type": "code",
   "execution_count": 2,
   "metadata": {},
   "outputs": [],
   "source": [
    "FILENAME=\"td_percentage_definition\"\n",
    "GIT_USER_NAME=\"SEI-DO3SE\"\n",
    "GIT_REPO_NAME=\"do3se_phenology\"\n",
    "DEPENDENCIES=[\n",
    "    (\"thermal_time\", \"github.com/SEI-DO3SE/thermal_time.git\"),\n",
    "    (\"do3se_phenology\", \"github.com/SEI-DO3SE/do3se_phenology.git\"),\n",
    "    (\"do3se_met\", \"github.com/SEI-DO3SE/do3se_met.git\"),\n",
    "    (\"notebook_utils\", \"github.com/sbland/notebook_utils.git\"),\n",
    "]"
   ]
  },
  {
   "cell_type": "code",
   "execution_count": 3,
   "metadata": {},
   "outputs": [
    {
     "data": {
      "text/markdown": [
       "\n",
       "<a href=\"https://colab.research.google.com/github/SEI-DO3SE/do3se_phenology/blob/master/notebooks/td_percentage_definition.ipynb\" target=\"_parent\">\n",
       "    <img src=\"https://colab.research.google.com/assets/colab-badge.svg\"/>\n",
       "</a>\n"
      ],
      "text/plain": [
       "<IPython.core.display.Markdown object>"
      ]
     },
     "execution_count": 3,
     "metadata": {},
     "output_type": "execute_result"
    }
   ],
   "source": [
    "# Add colab link\n",
    "from IPython.display import Markdown as md\n",
    "md(f\"\"\"\n",
    "<a href=\"https://colab.research.google.com/github/{GIT_USER_NAME}/{GIT_REPO_NAME}/blob/master/notebooks/{FILENAME}.ipynb\" target=\"_parent\">\n",
    "    <img src=\"https://colab.research.google.com/assets/colab-badge.svg\"/>\n",
    "</a>\n",
    "\"\"\")"
   ]
  },
  {
   "cell_type": "code",
   "execution_count": 4,
   "metadata": {},
   "outputs": [],
   "source": [
    "# Colab setup\n",
    "#@title Download libraries from github\n",
    "#@markdown Code Hidden\n",
    "try:\n",
    "    import importlib\n",
    "    for name, path in DEPENDENCIES:\n",
    "        importlib.import_module(name)\n",
    "except (ImportError, ModuleNotFoundError):\n",
    "    if 'google.colab' in str(get_ipython()):\n",
    "        print('Running on CoLab')\n",
    "        print(\"\"\"\n",
    "        This notebook requires access to private repositories. To access follow the steps below:\n",
    "        1. Get an access key from your github account: https://docs.github.com/en/github/authenticating-to-github/creating-a-personal-access-token\n",
    "        2. Save the key to a file in the following location on your google drive: `My Drive/access/collabaccess.txt`. The file should include your user on the first line and your token on the second.\n",
    "        \"\"\")\n",
    "        from google.colab import drive\n",
    "        drive.mount('/content/drive')\n",
    "\n",
    "        !mkdir -p ~/.access\n",
    "        !cp \"/content/drive/My Drive/access/collabaccess.txt\" ~/.access/config\n",
    "        import os\n",
    "        creds = open(f'{os.path.expanduser(\"~\")}/.access/config')\n",
    "        creds_parsed = creds.read().splitlines()\n",
    "        user, token = creds_parsed\n",
    "        for name, path in DEPENDENCIES:\n",
    "            !pip install git+https://{user}:{token}@{path}\n",
    "        creds.close()\n",
    "        creds = None\n",
    "        creds_parsed = None"
   ]
  },
  {
   "cell_type": "code",
   "execution_count": 5,
   "metadata": {},
   "outputs": [],
   "source": [
    "import pandas as pd\n",
    "from matplotlib import pyplot as plt\n",
    "from collections import namedtuple\n",
    "from dataclasses import dataclass\n",
    "from typing import List\n",
    "from itertools import accumulate\n",
    "import numpy as np\n",
    "from functools import partial\n",
    "from notebook_utils.widgets import *"
   ]
  },
  {
   "cell_type": "code",
   "execution_count": 6,
   "metadata": {},
   "outputs": [],
   "source": [
    "from do3se_met.irradiance import *\n",
    "from thermal_time.calcs import *"
   ]
  },
  {
   "cell_type": "code",
   "execution_count": 7,
   "metadata": {},
   "outputs": [],
   "source": [
    "%load_ext autoreload\n",
    "%autoreload 2\n",
    "\n",
    "from do3se_phenology.phyllochron_dvi import *\n",
    "from do3se_phenology.td_percent_definition import *\n",
    "from do3se_phenology.f_phen import *\n",
    "from do3se_phenology.plots import *\n"
   ]
  },
  {
   "cell_type": "code",
   "execution_count": 8,
   "metadata": {},
   "outputs": [
    {
     "data": {
      "text/plain": [
       "[<matplotlib.lines.Line2D at 0x7f2c377c3070>]"
      ]
     },
     "execution_count": 8,
     "metadata": {},
     "output_type": "execute_result"
    },
    {
     "data": {
      "image/png": "[encoded data removed]",
      "text/plain": [
       "<Figure size 432x288 with 1 Axes>"
      ]
     },
     "metadata": {
      "needs_background": "light"
     },
     "output_type": "display_data"
    }
   ],
   "source": [
    "# Demo data\n",
    "day_count = 365\n",
    "lat = 20\n",
    "\n",
    "dd_data = np.array([[d for i in range(24)] for d in range(day_count)]).reshape(day_count * 24)\n",
    "hrs_data = np.array([[i for i in range(24)] for d in range(day_count)]).reshape(day_count * 24)\n",
    "demo_temp_data = [24-abs(hr-12) for hr in hrs_data]\n",
    "accumulated_temperatures = list(accumulate(demo_temp_data))\n",
    "\n",
    "plt.plot(demo_temp_data)\n",
    " \n"
   ]
  },
  {
   "cell_type": "code",
   "execution_count": 9,
   "metadata": {},
   "outputs": [],
   "source": [
    "# Calc thermal time and photoperiod\n",
    "T_b, T_o, T_m = [0,20,50]\n",
    "lat = 50\n",
    "p_crit=24\n",
    "p_sens=0\n",
    "tsc = demo_temp_data\n",
    "td = calc_thermal_time_range(tsc, t_b=T_b)\n",
    "teff = [calc_effective_temperature(sum(tsc[d*24:(d+1)*24]),T_b, T_o, T_m) for d in dd_data]\n",
    "photoperiod = [calc_photoperiod(dd, lat) for dd in dd_data]\n",
    "rpe = [calc_rpe(p_crit=p_crit, p_sens=p_sens, p=P) for P in photoperiod]"
   ]
  },
  {
   "cell_type": "code",
   "execution_count": 10,
   "metadata": {},
   "outputs": [
    {
     "data": {
      "image/png": "[encoded data removed]",
      "text/plain": [
       "<Figure size 432x288 with 1 Axes>"
      ]
     },
     "metadata": {
      "needs_background": "light"
     },
     "output_type": "display_data"
    }
   ],
   "source": [
    "# Calc DVI\n",
    "\n",
    "dvi = [-1]\n",
    "tt_emr, tt_veg, tt_rep = [35, 1000, 666]\n",
    "sowing_day = 100\n",
    "for t, rp, d, hr in zip(teff, rpe, dd_data, hrs_data):\n",
    "  if hr == 0:\n",
    "    new_dvi = calc_dvi(dvi[-1],t, tt_emr, tt_veg, tt_rep, rp,d, sowing_day)\n",
    "    dvi.append(new_dvi)\n",
    "plt.xlim(sowing_day - 5, sowing_day+120)\n",
    "plt.plot(dvi)\n",
    "plt.xlabel(\"Days\")\n",
    "plt.ylabel(\"DVI\")\n",
    "plt.show()"
   ]
  },
  {
   "cell_type": "code",
   "execution_count": 11,
   "metadata": {},
   "outputs": [],
   "source": [
    "emergence_day = next(dz for dz, dv in enumerate(dvi) if dv > 0)\n",
    "phyllochron = calc_phyllochron(photoperiod[emergence_day] - photoperiod[emergence_day-1])\n"
   ]
  },
  {
   "cell_type": "markdown",
   "metadata": {},
   "source": [
    "# Interactive"
   ]
  },
  {
   "cell_type": "markdown",
   "metadata": {},
   "source": [
    "## DVI"
   ]
  },
  {
   "cell_type": "code",
   "execution_count": 12,
   "metadata": {},
   "outputs": [
    {
     "data": {
      "application/vnd.jupyter.widget-view+json": {
       "model_id": "6183167c8d2f41cbb68692ed958c0cb1",
       "version_major": 2,
       "version_minor": 0
      },
      "text/plain": [
       "Button(description='Reset', style=ButtonStyle())"
      ]
     },
     "metadata": {},
     "output_type": "display_data"
    },
    {
     "data": {
      "application/vnd.jupyter.widget-view+json": {
       "model_id": "0eff86c76b044948a7cd5c3c517a9a4c",
       "version_major": 2,
       "version_minor": 0
      },
      "text/plain": [
       "VBox(children=(HBox(children=(Label(value='tt_emr'), FloatSlider(value=35.0, max=2000.0, min=1.0, step=1.0)), …"
      ]
     },
     "metadata": {},
     "output_type": "display_data"
    },
    {
     "data": {
      "application/vnd.jupyter.widget-view+json": {
       "model_id": "1316f888c8e8426cb5f20f4676ba6c07",
       "version_major": 2,
       "version_minor": 0
      },
      "text/plain": [
       "Output()"
      ]
     },
     "metadata": {},
     "output_type": "display_data"
    }
   ],
   "source": [
    "#@title Life stage from td_data\n",
    "@interact_plus_reset(\n",
    "  tt_emr = widgets.FloatSlider(min=1, max=2000, value=35, step=1), \n",
    "  tt_veg = widgets.FloatSlider(min=1, max=2000, value=1000, step=1), \n",
    "  tt_rep = widgets.FloatSlider(min=1, max=2000, value=666, step=1), \n",
    "  sowing_day = widgets.FloatSlider(min=1, max=365, value=100, step=1),   \n",
    ")\n",
    "def run(tt_emr, tt_veg, tt_rep, sowing_day):\n",
    "  dvi = [-1]\n",
    "  for t, rp, d, hr in zip(teff, rpe, dd_data, hrs_data):\n",
    "    if hr == 0:\n",
    "      new_dvi = calc_dvi(dvi[-1],t, tt_emr, tt_veg, tt_rep, rp,d, sowing_day)\n",
    "      dvi.append(new_dvi)\n",
    "  plt.xlim(sowing_day - 5, sowing_day+120)\n",
    "  plt.plot(dvi)\n",
    "  plt.xlabel(\"Days\")\n",
    "  plt.ylabel(\"DVI\")\n",
    "\n",
    "  emergence_day = next(dz for dz, dv in enumerate(dvi) if dv > 0)\n",
    "  phyllochron = calc_phyllochron(photoperiod[emergence_day] - photoperiod[emergence_day-1])\n",
    "  life_stages = calc_life_stages_from_phyllochron(phyllochron, t_lse_constant=0.3)\n",
    "  life_stages\n",
    "  plt.show()\n"
   ]
  },
  {
   "cell_type": "markdown",
   "metadata": {},
   "source": [
    "## Get thermal days\n"
   ]
  },
  {
   "cell_type": "code",
   "execution_count": 13,
   "metadata": {},
   "outputs": [],
   "source": [
    "    (\n",
    "        SGS,\n",
    "        EGS,\n",
    "        Astart,\n",
    "        mid_anthesis,\n",
    "        fphen_a,\n",
    "        fphen_b,\n",
    "        fphen_c,\n",
    "        fphen_d,\n",
    "        dd_emr,\n",
    "        dd_veg,\n",
    "        dd_rep,\n",
    "        t_Astart,\n",
    "        t_mid_anthesis,\n",
    "        t_fphen_a,\n",
    "        t_fphen_b,\n",
    "        t_fphen_c,\n",
    "        t_fphen_d,\n",
    "        tt_emr,\n",
    "        tt_veg,\n",
    "        tt_rep,\n",
    "    ) = get_canopy_td_intervals(\n",
    "        td,\n",
    "        dd_data,\n",
    "        t_sgs=100,\n",
    "        t_egs=1850,\n",
    "    )"
   ]
  },
  {
   "cell_type": "code",
   "execution_count": 14,
   "metadata": {},
   "outputs": [
    {
     "data": {
      "text/plain": [
       "[<matplotlib.lines.Line2D at 0x7f2c37331cd0>]"
      ]
     },
     "execution_count": 14,
     "metadata": {},
     "output_type": "execute_result"
    },
    {
     "data": {
      "image/png": "[encoded data removed]",
      "text/plain": [
       "<Figure size 432x288 with 1 Axes>"
      ]
     },
     "metadata": {
      "needs_background": "light"
     },
     "output_type": "display_data"
    }
   ],
   "source": [
    "td_daily = [td for td, hr in zip(td, hrs_data) if hr == 0]\n",
    "plt.plot(td_daily)"
   ]
  },
  {
   "cell_type": "code",
   "execution_count": 15,
   "metadata": {},
   "outputs": [
    {
     "data": {
      "application/vnd.jupyter.widget-view+json": {
       "model_id": "7d9a579d6d674921b3ab05d550c3e09b",
       "version_major": 2,
       "version_minor": 0
      },
      "text/plain": [
       "Button(description='Reset', style=ButtonStyle())"
      ]
     },
     "metadata": {},
     "output_type": "display_data"
    },
    {
     "data": {
      "application/vnd.jupyter.widget-view+json": {
       "model_id": "816bf193cfe1413babc4cf473113f1d6",
       "version_major": 2,
       "version_minor": 0
      },
      "text/plain": [
       "VBox(children=(HBox(children=(Label(value='tt_emr'), FloatSlider(value=35.0, max=2000.0, min=1.0, step=1.0)), …"
      ]
     },
     "metadata": {},
     "output_type": "display_data"
    },
    {
     "data": {
      "application/vnd.jupyter.widget-view+json": {
       "model_id": "cace29824f26403f80d85655e49319d4",
       "version_major": 2,
       "version_minor": 0
      },
      "text/plain": [
       "Output()"
      ]
     },
     "metadata": {},
     "output_type": "display_data"
    }
   ],
   "source": [
    "#@title leaf_f_phen\n",
    "@interact_plus_reset(\n",
    "  tt_emr = widgets.FloatSlider(min=1, max=2000, value=35, step=1), \n",
    "  tt_veg = widgets.FloatSlider(min=1, max=2000, value=1000, step=1), \n",
    "  tt_rep = widgets.FloatSlider(min=1, max=2000, value=666, step=1), \n",
    "  t_astart=widgets.FloatSlider(min=1, max=2000, value=950, step=1),\n",
    "  td_at_sgs=widgets.FloatSlider(min=1, max=2000, value=100, step=1),\n",
    ")\n",
    "def get_t_l(\n",
    "    tt_emr, tt_veg, tt_rep,\n",
    "    t_astart,\n",
    "    td_at_sgs,\n",
    "):\n",
    "    # DVI\n",
    "    fig, axs = plt.subplots(ncols=2)\n",
    "    dvi = [-1]\n",
    "    for t, rp, d, hr in zip(teff, rpe, dd_data, hrs_data):\n",
    "        if hr == 0:\n",
    "            new_dvi = calc_dvi(dvi[-1],t, tt_emr, tt_veg, tt_rep, rp,d, sowing_day)\n",
    "            dvi.append(new_dvi)\n",
    "    \n",
    "\n",
    "    axs[0].plot(td_daily, dvi[1:])\n",
    "    axs[0].set_xlabel(\"Days\")\n",
    "    axs[0].set_ylabel(\"DVI\")\n",
    "    emergence_day = next(dz for dz, dv in enumerate(dvi) if dv > 0)\n",
    "    phyllochron = calc_phyllochron(photoperiod[emergence_day] - photoperiod[emergence_day-1])\n",
    "\n",
    "    # t_l\n",
    "    t_lse_constant=0.3\n",
    "    LS = calc_life_stages_from_phyllochron(phyllochron, t_lse_constant=t_lse_constant)\n",
    "    td_dd_list = [t - t_astart - td_at_sgs for t in td]\n",
    "    f_LA = [max(0,min(1,1 - (td_dd - LS.t_lem) / (LS.t_lma))) for td_dd in td_dd_list]\n",
    "    fO3_l = 1\n",
    "    f_LS = [max(0,min(1,1 - ((td_dd - LS.t_lem - LS.t_lep) / (LS.t_lma / fO3_l - LS.t_lep)))) for td_dd in td_dd_list]\n",
    "\n",
    "    axs[1].plot(td, f_LA, label=\"f_LA\")\n",
    "    axs[1].plot(td, f_LS, label=\"f_LS\")\n",
    "    axs[1].axvline(td_at_sgs + t_astart + LS.t_l, linestyle='dotted', color=\"red\")\n",
    "    axs[1].text(td_at_sgs + t_astart + LS.t_l, 0.5, 't_l', rotation=45, color=\"red\")\n",
    "    axs[1].axvline(td_at_sgs + t_astart, linestyle='dotted', color=\"green\")\n",
    "    axs[1].text(td_at_sgs + t_astart, 0.5, 't_Astart', rotation=45, color=\"green\")\n",
    "\n",
    "    plt.legend()\n",
    "\n",
    "    # DVI\n",
    "    plt.show()"
   ]
  },
  {
   "cell_type": "markdown",
   "metadata": {},
   "source": [
    "# Plot all"
   ]
  },
  {
   "cell_type": "code",
   "execution_count": 16,
   "metadata": {},
   "outputs": [],
   "source": [
    "def calc_dvi_range(tt_emr, tt_veg, tt_rep, sowing_day):\n",
    "    dvi = [-1]\n",
    "    for t, rp, d, hr in zip(teff, rpe, dd_data, hrs_data):\n",
    "        if hr == 0:\n",
    "            new_dvi = calc_dvi(dvi[-1],t, tt_emr, tt_veg, tt_rep, rp,d, sowing_day)\n",
    "            dvi.append(new_dvi)\n",
    "    return dvi\n"
   ]
  },
  {
   "cell_type": "code",
   "execution_count": 17,
   "metadata": {},
   "outputs": [
    {
     "data": {
      "application/vnd.jupyter.widget-view+json": {
       "model_id": "cf194c7169f14d3b967f6a7f9c6959ad",
       "version_major": 2,
       "version_minor": 0
      },
      "text/plain": [
       "Button(description='Reset', style=ButtonStyle())"
      ]
     },
     "metadata": {},
     "output_type": "display_data"
    },
    {
     "data": {
      "application/vnd.jupyter.widget-view+json": {
       "model_id": "5a9b72e6289b4b24addc07f386aa091f",
       "version_major": 2,
       "version_minor": 0
      },
      "text/plain": [
       "VBox(children=(HBox(children=(Label(value='t_sgs'), FloatSlider(value=200.0, max=2000.0, min=1.0, step=1.0)), …"
      ]
     },
     "metadata": {},
     "output_type": "display_data"
    },
    {
     "data": {
      "application/vnd.jupyter.widget-view+json": {
       "model_id": "9c46190d404e48469207e8de20a34717",
       "version_major": 2,
       "version_minor": 0
      },
      "text/plain": [
       "Output()"
      ]
     },
     "metadata": {},
     "output_type": "display_data"
    }
   ],
   "source": [
    "#@title leaf_f_phen\n",
    "td_daily = [td for td, hr in zip(td, hrs_data) if hr == 0]\n",
    "\n",
    "@interact_plus_reset(\n",
    "  t_sgs = widgets.FloatSlider(min=1, max=2000, value=200, step=1), \n",
    "  t_egs = widgets.FloatSlider(min=1, max=6000, value=1995, step=1),\n",
    "#   tt_emr = widgets.FloatSlider(min=1, max=2000, value=35, step=1), \n",
    "#   tt_veg = widgets.FloatSlider(min=1, max=2000, value=1000, step=1), \n",
    "#   tt_rep = widgets.FloatSlider(min=1, max=2000, value=666, step=1), \n",
    ")\n",
    "def get_t_l(\n",
    "    t_sgs,t_egs,\n",
    "    # tt_emr, tt_veg, tt_rep,\n",
    "):\n",
    "    fig, axs = plt.subplots(ncols=2, nrows=2, figsize=(16, 10))\n",
    "    (\n",
    "        SGS,\n",
    "        EGS,\n",
    "        Astart,\n",
    "        mid_anthesis,\n",
    "        fphen_a,\n",
    "        fphen_b,\n",
    "        fphen_c,\n",
    "        fphen_d,\n",
    "        dd_emr,\n",
    "        dd_veg,\n",
    "        dd_rep,\n",
    "        t_Astart,\n",
    "        t_mid_anthesis,\n",
    "        t_f_phen_a,\n",
    "        t_f_phen_b,\n",
    "        t_f_phen_c,\n",
    "        t_f_phen_d,\n",
    "        tt_emr,\n",
    "        tt_veg,\n",
    "        tt_rep,\n",
    "    ) = get_canopy_td_intervals(\n",
    "        td,\n",
    "        dd_data,\n",
    "        t_sgs=t_sgs,\n",
    "        t_egs=t_egs,\n",
    "    )\n",
    "\n",
    "    f_phen_data = tt_f_phen_simple_PLF_range(\n",
    "        td,\n",
    "        t_f_phen_a,\n",
    "        t_f_phen_b,\n",
    "        t_f_phen_c,\n",
    "        t_f_phen_d,\n",
    "        f_phen_min=0.2,\n",
    "        td_at_sgs=t_sgs,\n",
    "    )\n",
    "\n",
    "    (\n",
    "        SGS,\n",
    "        EGS,\n",
    "        Astart,\n",
    "        mid_anthesis,\n",
    "        fphen_1_ets,\n",
    "        fphen_3_ets,\n",
    "        fphen_4_ets,\n",
    "        fphen_5_ets,\n",
    "        t_Astart,\n",
    "        t_mid_anthesis,\n",
    "        t_fphen_1_ets,\n",
    "        t_fphen_3_ets,\n",
    "        t_fphen_4_ets,\n",
    "        t_fphen_5_ets,\n",
    "        t_lem,\n",
    "        t_lse,\n",
    "        t_lma,\n",
    "        t_lep,\n",
    "        lem,\n",
    "        lse,\n",
    "        lma,\n",
    "        lep,\n",
    "    ) = get_leaf_td_intervals(\n",
    "        td,\n",
    "        dd_data,\n",
    "        t_sgs=t_sgs,\n",
    "        t_egs=t_egs,\n",
    "    )\n",
    "\n",
    "    t_leaf_f_phen_a = 0.3\n",
    "    t_leaf_f_phen_b = 0.7\n",
    "    t_leaf_f_phen_e = t_fphen_1_ets\n",
    "    t_leaf_f_phen_g = t_fphen_3_ets\n",
    "    t_leaf_f_phen_h = t_fphen_4_ets\n",
    "    t_leaf_f_phen_i = t_fphen_5_ets\n",
    "    t_astart = t_Astart\n",
    "    td_at_sgs = t_sgs\n",
    "\n",
    "    leaf_f_phen_data = tt_leaf_f_phen_PLF_range(\n",
    "        td,\n",
    "        t_leaf_f_phen_a,\n",
    "        t_leaf_f_phen_b,\n",
    "        t_leaf_f_phen_e,\n",
    "        t_leaf_f_phen_g,\n",
    "        t_leaf_f_phen_h,\n",
    "        t_leaf_f_phen_i,\n",
    "        t_astart,\n",
    "        td_at_sgs,\n",
    "    )\n",
    "\n",
    "    # ===== PLOTS ===== #\n",
    "    # Leaf f phen\n",
    "    # Plot thermal time\n",
    "    plot_leaf_f_phen_data(\n",
    "        td,\n",
    "        leaf_f_phen_data,\n",
    "        t_leaf_f_phen_a,\n",
    "        t_leaf_f_phen_b,\n",
    "        t_leaf_f_phen_e,\n",
    "        t_leaf_f_phen_g,\n",
    "        t_leaf_f_phen_h,\n",
    "        t_leaf_f_phen_i,\n",
    "        t_astart,\n",
    "        t_sgs,\n",
    "        t_egs,\n",
    "        ax=axs[0][0],\n",
    "        ax_box=axs[1][0],\n",
    "    )\n",
    "\n",
    "    # Plot days\n",
    "    plot_leaf_f_phen_data(\n",
    "        dd_data,\n",
    "        leaf_f_phen_data,\n",
    "        t_leaf_f_phen_a,\n",
    "        t_leaf_f_phen_b,\n",
    "        fphen_1_ets,\n",
    "        fphen_3_ets,\n",
    "        fphen_4_ets,\n",
    "        fphen_5_ets,\n",
    "        Astart,\n",
    "        SGS,\n",
    "        EGS,\n",
    "        ax=axs[0][1],\n",
    "        ax_box=axs[1][1],\n",
    "    )\n",
    "\n",
    "    # f phen\n",
    "    plot_f_phen_data(\n",
    "        td,\n",
    "        f_phen_data,\n",
    "        t_sgs,\n",
    "        t_egs,\n",
    "        t_f_phen_a,\n",
    "        t_f_phen_b,\n",
    "        t_f_phen_c,\n",
    "        t_f_phen_d,\n",
    "        ax=axs[0][0],\n",
    "        ax_box=axs[1][0],\n",
    "        box_y_start=10,\n",
    "    )\n",
    "\n",
    "    plot_f_phen_data(\n",
    "        dd_data,\n",
    "        f_phen_data,\n",
    "        SGS,\n",
    "        EGS,\n",
    "        fphen_a - SGS,\n",
    "        fphen_b - SGS,\n",
    "        fphen_c - SGS,\n",
    "        fphen_d - SGS,\n",
    "        ax=axs[0][1],\n",
    "        ax_box=axs[1][1],\n",
    "        box_y_start=10,\n",
    "    )\n",
    "\n",
    "    # Plot fla fls\n",
    "    td_dd_list = [t - t_sgs for t in td]\n",
    "    f_LA = [max(0, min(1, 1 - (td_dd - t_astart) / (t_lma))) for td_dd in td_dd_list]\n",
    "    # f_LA = [max(0,min(1,1 - (td_dd - t_lem) / (t_lma))) for td_dd in td_dd_list]\n",
    "    fO3_l = 1\n",
    "    f_LS = [max(0, min(1, 1 - ((td_dd - t_astart - t_lep) / (t_lma / fO3_l - t_lep))))\n",
    "            for td_dd in td_dd_list]\n",
    "    # f_LS = [max(0,min(1,1 - ((td_dd - t_lem - t_lep) / (t_lma / fO3_l - t_lep)))) for td_dd in td_dd_list]\n",
    "    t_l = t_lma + t_lem\n",
    "\n",
    "    plot_ewert_phenology_data(\n",
    "        td,\n",
    "        f_LA,\n",
    "        f_LS,\n",
    "        t_lem,\n",
    "        t_lma,\n",
    "        t_lep,\n",
    "        t_lse,\n",
    "        t_sgs,\n",
    "        t_egs,\n",
    "        t_Astart,\n",
    "        ax=axs[0][0],\n",
    "        ax_box=axs[1][0],\n",
    "        box_y_start=17,\n",
    "    )\n",
    "    plot_ewert_phenology_data(\n",
    "        dd_data,\n",
    "        f_LA,\n",
    "        f_LS,\n",
    "        lem,\n",
    "        lma,\n",
    "        lep,\n",
    "        lse,\n",
    "        SGS,\n",
    "        EGS,\n",
    "        Astart,\n",
    "        ax=axs[0][1],\n",
    "        ax_box=axs[1][1],\n",
    "        box_y_start=17,\n",
    "    )\n",
    "\n",
    "    dvi_x = [td_at_sgs, td_at_sgs + tt_emr, td_at_sgs +\n",
    "             tt_emr + tt_veg, td_at_sgs + tt_emr + tt_veg + tt_rep]\n",
    "    dvi_y = [-1, 0, 1, 2]\n",
    "\n",
    "    axs[0][0].plot(dvi_x, dvi_y, label=\"DVI\", color=\"yellow\")\n",
    "\n",
    "    # Setup axes\n",
    "    axs[0][0].set_xlim((t_sgs - 100, t_egs + 300))\n",
    "    axs[1][0].set_xlim((t_sgs - 100, t_egs + 300))\n",
    "    axs[0][0].set_xlabel(\"thermal time\")\n",
    "    axs[0][0].set_ylabel(\"leaf_f_phen\")\n",
    "    axs[0][0].legend()\n",
    "\n",
    "    axs[0][1].set_xlim(((SGS - 10), (EGS + 10)))\n",
    "    axs[1][1].set_xlim(((SGS - 10), (EGS + 10)))\n",
    "\n",
    "    axs[0][1].set_xlabel(\"days\")\n",
    "    axs[0][1].set_ylabel(\"leaf_f_phen\")\n",
    "    axs[0][1].legend()\n",
    "    # plt.show()"
   ]
  },
  {
   "cell_type": "code",
   "execution_count": null,
   "metadata": {},
   "outputs": [],
   "source": []
  },
  {
   "cell_type": "code",
   "execution_count": null,
   "metadata": {},
   "outputs": [],
   "source": []
  }
 ],
 "metadata": {
  "interpreter": {
   "hash": "e5800c9f943d9bde4e18377803437c76ad5c738fc44e4ddde3e62e401b95f610"
  },
  "kernelspec": {
   "display_name": "Python 3.8.5 64-bit ('venv': venv)",
   "name": "python3"
  },
  "language_info": {
   "codemirror_mode": {
    "name": "ipython",
    "version": 3
   },
   "file_extension": ".py",
   "mimetype": "text/x-python",
   "name": "python",
   "nbconvert_exporter": "python",
   "pygments_lexer": "ipython3",
   "version": "3.8.5"
  },
  "metadata": {
   "interpreter": {
    "hash": "5c55f5c18676f06e0e8fd3b4e81a3cf05188ed8d108d1a0a43a9f2435b73baf0"
   }
  },
  "orig_nbformat": 2
 },
 "nbformat": 4,
 "nbformat_minor": 2
}
